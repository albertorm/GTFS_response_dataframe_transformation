{
  "nbformat": 4,
  "nbformat_minor": 0,
  "metadata": {
    "colab": {
      "name": "GTFS_datacollect.ipynb",
      "version": "0.3.2",
      "provenance": [],
      "include_colab_link": true
    },
    "language_info": {
      "codemirror_mode": {
        "name": "ipython",
        "version": 3
      },
      "file_extension": ".py",
      "mimetype": "text/x-python",
      "name": "python",
      "nbconvert_exporter": "python",
      "pygments_lexer": "ipython3",
      "version": "3.6.8"
    },
    "kernelspec": {
      "display_name": "Python 3",
      "language": "python",
      "name": "python3"
    }
  },
  "cells": [
    {
      "cell_type": "markdown",
      "metadata": {
        "id": "view-in-github",
        "colab_type": "text"
      },
      "source": [
        "<a href=\"https://colab.research.google.com/github/albertorm/GTFS_response_dataframe_transformation/blob/master/GTFS_to_dataframe.ipynb\" target=\"_parent\"><img src=\"https://colab.research.google.com/assets/colab-badge.svg\" alt=\"Open In Colab\"/></a>"
      ]
    },
    {
      "metadata": {
        "id": "ymaGnOlCvhfd",
        "colab_type": "text"
      },
      "cell_type": "markdown",
      "source": [
        "# Code for retrieving data from GTFS API\n",
        "## Import Libraries"
      ]
    },
    {
      "metadata": {
        "id": "rXltQuTgvhfh",
        "colab_type": "code",
        "colab": {}
      },
      "cell_type": "code",
      "source": [
        "from google.transit import gtfs_realtime_pb2\n",
        "from google.protobuf import json_format\n",
        "from pandas.io.json import json_normalize\n",
        "import requests\n",
        "import json\n",
        "import pandas as pd"
      ],
      "execution_count": 0,
      "outputs": []
    },
    {
      "metadata": {
        "id": "oM6iQ6VTvhft",
        "colab_type": "text"
      },
      "cell_type": "markdown",
      "source": [
        "# 1 Function Request GTFS data from opendata"
      ]
    },
    {
      "metadata": {
        "id": "mcIBl6Wmvhfv",
        "colab_type": "code",
        "colab": {}
      },
      "cell_type": "code",
      "source": [
        "def gtfs_req():\n",
        "    url = 'http://the_url/GTFS/method'\n",
        "    username = 'YOUR_USER\n",
        "    password = 'KEY'\n",
        "    respns = requests.get(url, auth=(username, password))\n",
        "    return respns"
      ],
      "execution_count": 0,
      "outputs": []
    },
    {
      "metadata": {
        "id": "T1faL3k4vhf1",
        "colab_type": "text"
      },
      "cell_type": "markdown",
      "source": [
        "# 2 Function Transform response to dictionary structure using json format\n"
      ]
    },
    {
      "metadata": {
        "id": "YjHzF903vhf2",
        "colab_type": "code",
        "colab": {}
      },
      "cell_type": "code",
      "source": [
        "def to_dictdump(respns):\n",
        "    feed = gtfs_realtime_pb2.FeedMessage()\n",
        "    feed.ParseFromString(respns.content)\n",
        "    json_r = json_format.MessageToJson(feed)\n",
        "    dictdump = json.loads(json_r)\n",
        "    return dictdump"
      ],
      "execution_count": 0,
      "outputs": []
    },
    {
      "metadata": {
        "id": "0vxEU_DsvhgE",
        "colab_type": "text"
      },
      "cell_type": "markdown",
      "source": [
        "# 3 Function Get the response in a dataframe structure"
      ]
    },
    {
      "metadata": {
        "id": "ns--aBYGvhgF",
        "colab_type": "code",
        "colab": {}
      },
      "cell_type": "code",
      "source": [
        "def get_response(dictdump):    \n",
        "# declare dataframe to store values\n",
        "    df_gtfs = pd.DataFrame() \n",
        "# normalize to dataframe\n",
        "    df_gtfs = json_normalize(dictdump['HEADER'])\n",
        "# Write the     \n",
        "    return df_gtfs"
      ],
      "execution_count": 0,
      "outputs": []
    },
    {
      "metadata": {
        "id": "nIVkR2vTvhgI",
        "colab_type": "text"
      },
      "cell_type": "markdown",
      "source": [
        "# 4 Call functions"
      ]
    },
    {
      "metadata": {
        "id": "wQp1JPnBvhgJ",
        "colab_type": "code",
        "colab": {}
      },
      "cell_type": "code",
      "source": [
        "#1\n",
        "resp = gtfs_req()\n",
        "# 2\n",
        "dictdmp = to_dictdump(resp)\n",
        "# 3\n",
        "df_gtfs = get_response(dictdmp)\n",
        "#\n",
        "df_gtfs"
      ],
      "execution_count": 0,
      "outputs": []
    }
  ]
}